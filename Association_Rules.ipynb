{
  "nbformat": 4,
  "nbformat_minor": 0,
  "metadata": {
    "colab": {
      "provenance": [],
      "authorship_tag": "ABX9TyOGE5hSKkYdICtJSzqHm+7F",
      "include_colab_link": true
    },
    "kernelspec": {
      "name": "python3",
      "display_name": "Python 3"
    },
    "language_info": {
      "name": "python"
    }
  },
  "cells": [
    {
      "cell_type": "markdown",
      "metadata": {
        "id": "view-in-github",
        "colab_type": "text"
      },
      "source": [
        "<a href=\"https://colab.research.google.com/github/Siddhi-Sovle/Data-Science/blob/main/Association_Rules.ipynb\" target=\"_parent\"><img src=\"https://colab.research.google.com/assets/colab-badge.svg\" alt=\"Open In Colab\"/></a>"
      ]
    },
    {
      "cell_type": "code",
      "execution_count": null,
      "metadata": {
        "id": "SD5L2z-k6GWB"
      },
      "outputs": [],
      "source": [
        "import pandas as pd\n",
        "import matplotlib.pyplot as plt\n",
        "import seaborn as sns\n",
        "import numpy as np"
      ]
    },
    {
      "cell_type": "code",
      "source": [
        "df = pd.read_csv(\"/content/book.csv\")"
      ],
      "metadata": {
        "id": "a1O5CHsxKf0Q"
      },
      "execution_count": null,
      "outputs": []
    },
    {
      "cell_type": "code",
      "source": [
        "df.head()"
      ],
      "metadata": {
        "colab": {
          "base_uri": "https://localhost:8080/",
          "height": 206
        },
        "id": "x6X0-iDHKlIB",
        "outputId": "e66d19c3-066e-4396-913d-262ba68b32e7"
      },
      "execution_count": null,
      "outputs": [
        {
          "output_type": "execute_result",
          "data": {
            "text/plain": [
              "   ChildBks  YouthBks  CookBks  DoItYBks  RefBks  ArtBks  GeogBks  ItalCook  \\\n",
              "0         0         1        0         1       0       0        1         0   \n",
              "1         1         0        0         0       0       0        0         0   \n",
              "2         0         0        0         0       0       0        0         0   \n",
              "3         1         1        1         0       1       0        1         0   \n",
              "4         0         0        1         0       0       0        1         0   \n",
              "\n",
              "   ItalAtlas  ItalArt  Florence  \n",
              "0          0        0         0  \n",
              "1          0        0         0  \n",
              "2          0        0         0  \n",
              "3          0        0         0  \n",
              "4          0        0         0  "
            ],
            "text/html": [
              "\n",
              "  <div id=\"df-3b785d2d-ea48-464e-9a34-23a413d7d333\" class=\"colab-df-container\">\n",
              "    <div>\n",
              "<style scoped>\n",
              "    .dataframe tbody tr th:only-of-type {\n",
              "        vertical-align: middle;\n",
              "    }\n",
              "\n",
              "    .dataframe tbody tr th {\n",
              "        vertical-align: top;\n",
              "    }\n",
              "\n",
              "    .dataframe thead th {\n",
              "        text-align: right;\n",
              "    }\n",
              "</style>\n",
              "<table border=\"1\" class=\"dataframe\">\n",
              "  <thead>\n",
              "    <tr style=\"text-align: right;\">\n",
              "      <th></th>\n",
              "      <th>ChildBks</th>\n",
              "      <th>YouthBks</th>\n",
              "      <th>CookBks</th>\n",
              "      <th>DoItYBks</th>\n",
              "      <th>RefBks</th>\n",
              "      <th>ArtBks</th>\n",
              "      <th>GeogBks</th>\n",
              "      <th>ItalCook</th>\n",
              "      <th>ItalAtlas</th>\n",
              "      <th>ItalArt</th>\n",
              "      <th>Florence</th>\n",
              "    </tr>\n",
              "  </thead>\n",
              "  <tbody>\n",
              "    <tr>\n",
              "      <th>0</th>\n",
              "      <td>0</td>\n",
              "      <td>1</td>\n",
              "      <td>0</td>\n",
              "      <td>1</td>\n",
              "      <td>0</td>\n",
              "      <td>0</td>\n",
              "      <td>1</td>\n",
              "      <td>0</td>\n",
              "      <td>0</td>\n",
              "      <td>0</td>\n",
              "      <td>0</td>\n",
              "    </tr>\n",
              "    <tr>\n",
              "      <th>1</th>\n",
              "      <td>1</td>\n",
              "      <td>0</td>\n",
              "      <td>0</td>\n",
              "      <td>0</td>\n",
              "      <td>0</td>\n",
              "      <td>0</td>\n",
              "      <td>0</td>\n",
              "      <td>0</td>\n",
              "      <td>0</td>\n",
              "      <td>0</td>\n",
              "      <td>0</td>\n",
              "    </tr>\n",
              "    <tr>\n",
              "      <th>2</th>\n",
              "      <td>0</td>\n",
              "      <td>0</td>\n",
              "      <td>0</td>\n",
              "      <td>0</td>\n",
              "      <td>0</td>\n",
              "      <td>0</td>\n",
              "      <td>0</td>\n",
              "      <td>0</td>\n",
              "      <td>0</td>\n",
              "      <td>0</td>\n",
              "      <td>0</td>\n",
              "    </tr>\n",
              "    <tr>\n",
              "      <th>3</th>\n",
              "      <td>1</td>\n",
              "      <td>1</td>\n",
              "      <td>1</td>\n",
              "      <td>0</td>\n",
              "      <td>1</td>\n",
              "      <td>0</td>\n",
              "      <td>1</td>\n",
              "      <td>0</td>\n",
              "      <td>0</td>\n",
              "      <td>0</td>\n",
              "      <td>0</td>\n",
              "    </tr>\n",
              "    <tr>\n",
              "      <th>4</th>\n",
              "      <td>0</td>\n",
              "      <td>0</td>\n",
              "      <td>1</td>\n",
              "      <td>0</td>\n",
              "      <td>0</td>\n",
              "      <td>0</td>\n",
              "      <td>1</td>\n",
              "      <td>0</td>\n",
              "      <td>0</td>\n",
              "      <td>0</td>\n",
              "      <td>0</td>\n",
              "    </tr>\n",
              "  </tbody>\n",
              "</table>\n",
              "</div>\n",
              "    <div class=\"colab-df-buttons\">\n",
              "\n",
              "  <div class=\"colab-df-container\">\n",
              "    <button class=\"colab-df-convert\" onclick=\"convertToInteractive('df-3b785d2d-ea48-464e-9a34-23a413d7d333')\"\n",
              "            title=\"Convert this dataframe to an interactive table.\"\n",
              "            style=\"display:none;\">\n",
              "\n",
              "  <svg xmlns=\"http://www.w3.org/2000/svg\" height=\"24px\" viewBox=\"0 -960 960 960\">\n",
              "    <path d=\"M120-120v-720h720v720H120Zm60-500h600v-160H180v160Zm220 220h160v-160H400v160Zm0 220h160v-160H400v160ZM180-400h160v-160H180v160Zm440 0h160v-160H620v160ZM180-180h160v-160H180v160Zm440 0h160v-160H620v160Z\"/>\n",
              "  </svg>\n",
              "    </button>\n",
              "\n",
              "  <style>\n",
              "    .colab-df-container {\n",
              "      display:flex;\n",
              "      gap: 12px;\n",
              "    }\n",
              "\n",
              "    .colab-df-convert {\n",
              "      background-color: #E8F0FE;\n",
              "      border: none;\n",
              "      border-radius: 50%;\n",
              "      cursor: pointer;\n",
              "      display: none;\n",
              "      fill: #1967D2;\n",
              "      height: 32px;\n",
              "      padding: 0 0 0 0;\n",
              "      width: 32px;\n",
              "    }\n",
              "\n",
              "    .colab-df-convert:hover {\n",
              "      background-color: #E2EBFA;\n",
              "      box-shadow: 0px 1px 2px rgba(60, 64, 67, 0.3), 0px 1px 3px 1px rgba(60, 64, 67, 0.15);\n",
              "      fill: #174EA6;\n",
              "    }\n",
              "\n",
              "    .colab-df-buttons div {\n",
              "      margin-bottom: 4px;\n",
              "    }\n",
              "\n",
              "    [theme=dark] .colab-df-convert {\n",
              "      background-color: #3B4455;\n",
              "      fill: #D2E3FC;\n",
              "    }\n",
              "\n",
              "    [theme=dark] .colab-df-convert:hover {\n",
              "      background-color: #434B5C;\n",
              "      box-shadow: 0px 1px 3px 1px rgba(0, 0, 0, 0.15);\n",
              "      filter: drop-shadow(0px 1px 2px rgba(0, 0, 0, 0.3));\n",
              "      fill: #FFFFFF;\n",
              "    }\n",
              "  </style>\n",
              "\n",
              "    <script>\n",
              "      const buttonEl =\n",
              "        document.querySelector('#df-3b785d2d-ea48-464e-9a34-23a413d7d333 button.colab-df-convert');\n",
              "      buttonEl.style.display =\n",
              "        google.colab.kernel.accessAllowed ? 'block' : 'none';\n",
              "\n",
              "      async function convertToInteractive(key) {\n",
              "        const element = document.querySelector('#df-3b785d2d-ea48-464e-9a34-23a413d7d333');\n",
              "        const dataTable =\n",
              "          await google.colab.kernel.invokeFunction('convertToInteractive',\n",
              "                                                    [key], {});\n",
              "        if (!dataTable) return;\n",
              "\n",
              "        const docLinkHtml = 'Like what you see? Visit the ' +\n",
              "          '<a target=\"_blank\" href=https://colab.research.google.com/notebooks/data_table.ipynb>data table notebook</a>'\n",
              "          + ' to learn more about interactive tables.';\n",
              "        element.innerHTML = '';\n",
              "        dataTable['output_type'] = 'display_data';\n",
              "        await google.colab.output.renderOutput(dataTable, element);\n",
              "        const docLink = document.createElement('div');\n",
              "        docLink.innerHTML = docLinkHtml;\n",
              "        element.appendChild(docLink);\n",
              "      }\n",
              "    </script>\n",
              "  </div>\n",
              "\n",
              "\n",
              "<div id=\"df-9b8555a3-6069-402e-b821-f54ae1b3b0ce\">\n",
              "  <button class=\"colab-df-quickchart\" onclick=\"quickchart('df-9b8555a3-6069-402e-b821-f54ae1b3b0ce')\"\n",
              "            title=\"Suggest charts.\"\n",
              "            style=\"display:none;\">\n",
              "\n",
              "<svg xmlns=\"http://www.w3.org/2000/svg\" height=\"24px\"viewBox=\"0 0 24 24\"\n",
              "     width=\"24px\">\n",
              "    <g>\n",
              "        <path d=\"M19 3H5c-1.1 0-2 .9-2 2v14c0 1.1.9 2 2 2h14c1.1 0 2-.9 2-2V5c0-1.1-.9-2-2-2zM9 17H7v-7h2v7zm4 0h-2V7h2v10zm4 0h-2v-4h2v4z\"/>\n",
              "    </g>\n",
              "</svg>\n",
              "  </button>\n",
              "\n",
              "<style>\n",
              "  .colab-df-quickchart {\n",
              "      --bg-color: #E8F0FE;\n",
              "      --fill-color: #1967D2;\n",
              "      --hover-bg-color: #E2EBFA;\n",
              "      --hover-fill-color: #174EA6;\n",
              "      --disabled-fill-color: #AAA;\n",
              "      --disabled-bg-color: #DDD;\n",
              "  }\n",
              "\n",
              "  [theme=dark] .colab-df-quickchart {\n",
              "      --bg-color: #3B4455;\n",
              "      --fill-color: #D2E3FC;\n",
              "      --hover-bg-color: #434B5C;\n",
              "      --hover-fill-color: #FFFFFF;\n",
              "      --disabled-bg-color: #3B4455;\n",
              "      --disabled-fill-color: #666;\n",
              "  }\n",
              "\n",
              "  .colab-df-quickchart {\n",
              "    background-color: var(--bg-color);\n",
              "    border: none;\n",
              "    border-radius: 50%;\n",
              "    cursor: pointer;\n",
              "    display: none;\n",
              "    fill: var(--fill-color);\n",
              "    height: 32px;\n",
              "    padding: 0;\n",
              "    width: 32px;\n",
              "  }\n",
              "\n",
              "  .colab-df-quickchart:hover {\n",
              "    background-color: var(--hover-bg-color);\n",
              "    box-shadow: 0 1px 2px rgba(60, 64, 67, 0.3), 0 1px 3px 1px rgba(60, 64, 67, 0.15);\n",
              "    fill: var(--button-hover-fill-color);\n",
              "  }\n",
              "\n",
              "  .colab-df-quickchart-complete:disabled,\n",
              "  .colab-df-quickchart-complete:disabled:hover {\n",
              "    background-color: var(--disabled-bg-color);\n",
              "    fill: var(--disabled-fill-color);\n",
              "    box-shadow: none;\n",
              "  }\n",
              "\n",
              "  .colab-df-spinner {\n",
              "    border: 2px solid var(--fill-color);\n",
              "    border-color: transparent;\n",
              "    border-bottom-color: var(--fill-color);\n",
              "    animation:\n",
              "      spin 1s steps(1) infinite;\n",
              "  }\n",
              "\n",
              "  @keyframes spin {\n",
              "    0% {\n",
              "      border-color: transparent;\n",
              "      border-bottom-color: var(--fill-color);\n",
              "      border-left-color: var(--fill-color);\n",
              "    }\n",
              "    20% {\n",
              "      border-color: transparent;\n",
              "      border-left-color: var(--fill-color);\n",
              "      border-top-color: var(--fill-color);\n",
              "    }\n",
              "    30% {\n",
              "      border-color: transparent;\n",
              "      border-left-color: var(--fill-color);\n",
              "      border-top-color: var(--fill-color);\n",
              "      border-right-color: var(--fill-color);\n",
              "    }\n",
              "    40% {\n",
              "      border-color: transparent;\n",
              "      border-right-color: var(--fill-color);\n",
              "      border-top-color: var(--fill-color);\n",
              "    }\n",
              "    60% {\n",
              "      border-color: transparent;\n",
              "      border-right-color: var(--fill-color);\n",
              "    }\n",
              "    80% {\n",
              "      border-color: transparent;\n",
              "      border-right-color: var(--fill-color);\n",
              "      border-bottom-color: var(--fill-color);\n",
              "    }\n",
              "    90% {\n",
              "      border-color: transparent;\n",
              "      border-bottom-color: var(--fill-color);\n",
              "    }\n",
              "  }\n",
              "</style>\n",
              "\n",
              "  <script>\n",
              "    async function quickchart(key) {\n",
              "      const quickchartButtonEl =\n",
              "        document.querySelector('#' + key + ' button');\n",
              "      quickchartButtonEl.disabled = true;  // To prevent multiple clicks.\n",
              "      quickchartButtonEl.classList.add('colab-df-spinner');\n",
              "      try {\n",
              "        const charts = await google.colab.kernel.invokeFunction(\n",
              "            'suggestCharts', [key], {});\n",
              "      } catch (error) {\n",
              "        console.error('Error during call to suggestCharts:', error);\n",
              "      }\n",
              "      quickchartButtonEl.classList.remove('colab-df-spinner');\n",
              "      quickchartButtonEl.classList.add('colab-df-quickchart-complete');\n",
              "    }\n",
              "    (() => {\n",
              "      let quickchartButtonEl =\n",
              "        document.querySelector('#df-9b8555a3-6069-402e-b821-f54ae1b3b0ce button');\n",
              "      quickchartButtonEl.style.display =\n",
              "        google.colab.kernel.accessAllowed ? 'block' : 'none';\n",
              "    })();\n",
              "  </script>\n",
              "</div>\n",
              "    </div>\n",
              "  </div>\n"
            ]
          },
          "metadata": {},
          "execution_count": 3
        }
      ]
    },
    {
      "cell_type": "code",
      "source": [
        "df.info()\n"
      ],
      "metadata": {
        "colab": {
          "base_uri": "https://localhost:8080/"
        },
        "id": "TaRlAVeyKmZp",
        "outputId": "34ed22ae-568a-4e8a-b5d4-bbe308d9d4d6"
      },
      "execution_count": null,
      "outputs": [
        {
          "output_type": "stream",
          "name": "stdout",
          "text": [
            "<class 'pandas.core.frame.DataFrame'>\n",
            "RangeIndex: 2000 entries, 0 to 1999\n",
            "Data columns (total 11 columns):\n",
            " #   Column     Non-Null Count  Dtype\n",
            "---  ------     --------------  -----\n",
            " 0   ChildBks   2000 non-null   int64\n",
            " 1   YouthBks   2000 non-null   int64\n",
            " 2   CookBks    2000 non-null   int64\n",
            " 3   DoItYBks   2000 non-null   int64\n",
            " 4   RefBks     2000 non-null   int64\n",
            " 5   ArtBks     2000 non-null   int64\n",
            " 6   GeogBks    2000 non-null   int64\n",
            " 7   ItalCook   2000 non-null   int64\n",
            " 8   ItalAtlas  2000 non-null   int64\n",
            " 9   ItalArt    2000 non-null   int64\n",
            " 10  Florence   2000 non-null   int64\n",
            "dtypes: int64(11)\n",
            "memory usage: 172.0 KB\n"
          ]
        }
      ]
    },
    {
      "cell_type": "code",
      "source": [
        "for i in df.columns:\n",
        "  print(df[i].value_counts())\n",
        "  print()"
      ],
      "metadata": {
        "colab": {
          "base_uri": "https://localhost:8080/"
        },
        "id": "IXFC4JImKwmB",
        "outputId": "61326ba8-63c2-4cfb-8f3a-3ab08fa00951"
      },
      "execution_count": null,
      "outputs": [
        {
          "output_type": "stream",
          "name": "stdout",
          "text": [
            "0    1154\n",
            "1     846\n",
            "Name: ChildBks, dtype: int64\n",
            "\n",
            "0    1505\n",
            "1     495\n",
            "Name: YouthBks, dtype: int64\n",
            "\n",
            "0    1138\n",
            "1     862\n",
            "Name: CookBks, dtype: int64\n",
            "\n",
            "0    1436\n",
            "1     564\n",
            "Name: DoItYBks, dtype: int64\n",
            "\n",
            "0    1571\n",
            "1     429\n",
            "Name: RefBks, dtype: int64\n",
            "\n",
            "0    1518\n",
            "1     482\n",
            "Name: ArtBks, dtype: int64\n",
            "\n",
            "0    1448\n",
            "1     552\n",
            "Name: GeogBks, dtype: int64\n",
            "\n",
            "0    1773\n",
            "1     227\n",
            "Name: ItalCook, dtype: int64\n",
            "\n",
            "0    1926\n",
            "1      74\n",
            "Name: ItalAtlas, dtype: int64\n",
            "\n",
            "0    1903\n",
            "1      97\n",
            "Name: ItalArt, dtype: int64\n",
            "\n",
            "0    1783\n",
            "1     217\n",
            "Name: Florence, dtype: int64\n",
            "\n"
          ]
        }
      ]
    },
    {
      "cell_type": "code",
      "source": [
        "pip install apyori"
      ],
      "metadata": {
        "colab": {
          "base_uri": "https://localhost:8080/"
        },
        "id": "qiYq6sT6MLLh",
        "outputId": "79ef390b-9556-43c4-97b7-b0d9e74e8497"
      },
      "execution_count": null,
      "outputs": [
        {
          "output_type": "stream",
          "name": "stdout",
          "text": [
            "Collecting apyori\n",
            "  Downloading apyori-1.1.2.tar.gz (8.6 kB)\n",
            "  Preparing metadata (setup.py) ... \u001b[?25l\u001b[?25hdone\n",
            "Building wheels for collected packages: apyori\n",
            "  Building wheel for apyori (setup.py) ... \u001b[?25l\u001b[?25hdone\n",
            "  Created wheel for apyori: filename=apyori-1.1.2-py3-none-any.whl size=5955 sha256=a6365a080a91e14a17b968d07abadffc679918441bc53843cac8af6b265d3d0b\n",
            "  Stored in directory: /root/.cache/pip/wheels/c4/1a/79/20f55c470a50bb3702a8cb7c94d8ada15573538c7f4baebe2d\n",
            "Successfully built apyori\n",
            "Installing collected packages: apyori\n",
            "Successfully installed apyori-1.1.2\n"
          ]
        }
      ]
    },
    {
      "cell_type": "code",
      "source": [
        "from apyori import apriori\n",
        "import pandas as pd"
      ],
      "metadata": {
        "id": "71Ludr6JMZqS"
      },
      "execution_count": null,
      "outputs": []
    },
    {
      "cell_type": "code",
      "source": [
        "from mlxtend.frequent_patterns import apriori\n",
        "from mlxtend.frequent_patterns import association_rules\n"
      ],
      "metadata": {
        "id": "ZvI8ldZc77Dz"
      },
      "execution_count": null,
      "outputs": []
    },
    {
      "cell_type": "code",
      "source": [
        "a = 2"
      ],
      "metadata": {
        "colab": {
          "base_uri": "https://localhost:8080/"
        },
        "id": "zvY1v_rObTMd",
        "outputId": "dd4b38b1-e06f-4cf7-9488-5587abddfcd8"
      },
      "execution_count": null,
      "outputs": [
        {
          "output_type": "stream",
          "name": "stderr",
          "text": [
            "/usr/local/lib/python3.10/dist-packages/ipykernel/ipkernel.py:283: DeprecationWarning: `should_run_async` will not call `transform_cell` automatically in the future. Please pass the result to `transformed_cell` argument and any exception that happen during thetransform in `preprocessing_exc_tuple` in IPython 7.17 and above.\n",
            "  and should_run_async(code)\n"
          ]
        }
      ]
    },
    {
      "cell_type": "code",
      "source": [
        "frequent_itemsets = apriori(df, min_support=0.1, use_colnames=True)"
      ],
      "metadata": {
        "colab": {
          "base_uri": "https://localhost:8080/"
        },
        "id": "dqGOs17_6vdR",
        "outputId": "4655190f-08f0-44c3-fde1-74f4e85af452"
      },
      "execution_count": null,
      "outputs": [
        {
          "output_type": "stream",
          "name": "stderr",
          "text": [
            "/usr/local/lib/python3.10/dist-packages/ipykernel/ipkernel.py:283: DeprecationWarning: `should_run_async` will not call `transform_cell` automatically in the future. Please pass the result to `transformed_cell` argument and any exception that happen during thetransform in `preprocessing_exc_tuple` in IPython 7.17 and above.\n",
            "  and should_run_async(code)\n",
            "/usr/local/lib/python3.10/dist-packages/mlxtend/frequent_patterns/fpcommon.py:110: DeprecationWarning: DataFrames with non-bool types result in worse computationalperformance and their support might be discontinued in the future.Please use a DataFrame with bool type\n",
            "  warnings.warn(\n"
          ]
        }
      ]
    },
    {
      "cell_type": "code",
      "source": [
        "rules = association_rules(frequent_itemsets, metric=\"confidence\", min_threshold=0.70)"
      ],
      "metadata": {
        "colab": {
          "base_uri": "https://localhost:8080/"
        },
        "id": "a8DZGNs88zR8",
        "outputId": "ee871622-4f1a-4cb4-f5a4-b3922764c65e"
      },
      "execution_count": null,
      "outputs": [
        {
          "output_type": "stream",
          "name": "stderr",
          "text": [
            "/usr/local/lib/python3.10/dist-packages/ipykernel/ipkernel.py:283: DeprecationWarning: `should_run_async` will not call `transform_cell` automatically in the future. Please pass the result to `transformed_cell` argument and any exception that happen during thetransform in `preprocessing_exc_tuple` in IPython 7.17 and above.\n",
            "  and should_run_async(code)\n"
          ]
        }
      ]
    },
    {
      "cell_type": "code",
      "source": [
        "print(rules)"
      ],
      "metadata": {
        "colab": {
          "base_uri": "https://localhost:8080/"
        },
        "id": "j0P_zjAR8zlO",
        "outputId": "1eed1924-6fad-424c-b67c-ef026d9e1770"
      },
      "execution_count": null,
      "outputs": [
        {
          "output_type": "stream",
          "name": "stdout",
          "text": [
            "             antecedents consequents  antecedent support  consequent support  \\\n",
            "0               (RefBks)  (ChildBks)              0.2145               0.423   \n",
            "1              (GeogBks)  (ChildBks)              0.2760               0.423   \n",
            "2               (RefBks)   (CookBks)              0.2145               0.431   \n",
            "3             (ItalCook)   (CookBks)              0.1135               0.431   \n",
            "4    (YouthBks, CookBks)  (ChildBks)              0.1620               0.423   \n",
            "5   (YouthBks, ChildBks)   (CookBks)              0.1650               0.431   \n",
            "6    (CookBks, DoItYBks)  (ChildBks)              0.1875               0.423   \n",
            "7   (DoItYBks, ChildBks)   (CookBks)              0.1840               0.431   \n",
            "8      (CookBks, RefBks)  (ChildBks)              0.1525               0.423   \n",
            "9     (RefBks, ChildBks)   (CookBks)              0.1515               0.431   \n",
            "10     (CookBks, ArtBks)  (ChildBks)              0.1670               0.423   \n",
            "11    (ArtBks, ChildBks)   (CookBks)              0.1625               0.431   \n",
            "12    (CookBks, GeogBks)  (ChildBks)              0.1925               0.423   \n",
            "13   (GeogBks, ChildBks)   (CookBks)              0.1950               0.431   \n",
            "14   (DoItYBks, GeogBks)  (ChildBks)              0.1325               0.423   \n",
            "15     (ArtBks, GeogBks)  (ChildBks)              0.1275               0.423   \n",
            "16    (DoItYBks, ArtBks)   (CookBks)              0.1235               0.431   \n",
            "17   (DoItYBks, GeogBks)   (CookBks)              0.1325               0.431   \n",
            "18     (ArtBks, GeogBks)   (CookBks)              0.1275               0.431   \n",
            "\n",
            "    support  confidence      lift  leverage  conviction  zhangs_metric  \n",
            "0    0.1515    0.706294  1.669725  0.060767    1.964548       0.510629  \n",
            "1    0.1950    0.706522  1.670264  0.078252    1.966074       0.554271  \n",
            "2    0.1525    0.710956  1.649549  0.060050    1.968556       0.501303  \n",
            "3    0.1135    1.000000  2.320186  0.064582         inf       0.641850  \n",
            "4    0.1290    0.796296  1.882497  0.060474    2.832545       0.559416  \n",
            "5    0.1290    0.781818  1.813963  0.057885    2.607917       0.537390  \n",
            "6    0.1460    0.778667  1.840820  0.066687    2.606928       0.562171  \n",
            "7    0.1460    0.793478  1.841017  0.066696    2.755158       0.559831  \n",
            "8    0.1225    0.803279  1.899004  0.057993    2.933083       0.558594  \n",
            "9    0.1225    0.808581  1.876058  0.057204    2.972534       0.550345  \n",
            "10   0.1265    0.757485  1.790745  0.055859    2.379235       0.530100  \n",
            "11   0.1265    0.778462  1.806175  0.056462    2.568403       0.532948  \n",
            "12   0.1495    0.776623  1.835989  0.068072    2.583081       0.563882  \n",
            "13   0.1495    0.766667  1.778809  0.065455    2.438571       0.543883  \n",
            "14   0.1045    0.788679  1.864490  0.048452    2.730446       0.534479  \n",
            "15   0.1020    0.800000  1.891253  0.048067    2.885000       0.540115  \n",
            "16   0.1015    0.821862  1.906873  0.048272    3.194159       0.542591  \n",
            "17   0.1085    0.818868  1.899926  0.051392    3.141354       0.546010  \n",
            "18   0.1035    0.811765  1.883445  0.048547    3.022812       0.537602  \n"
          ]
        },
        {
          "output_type": "stream",
          "name": "stderr",
          "text": [
            "/usr/local/lib/python3.10/dist-packages/ipykernel/ipkernel.py:283: DeprecationWarning: `should_run_async` will not call `transform_cell` automatically in the future. Please pass the result to `transformed_cell` argument and any exception that happen during thetransform in `preprocessing_exc_tuple` in IPython 7.17 and above.\n",
            "  and should_run_async(code)\n"
          ]
        }
      ]
    },
    {
      "cell_type": "code",
      "source": [
        "rule_support = rules['support'].tolist()\n",
        "rule_confidence = rules['confidence'].tolist()"
      ],
      "metadata": {
        "colab": {
          "base_uri": "https://localhost:8080/"
        },
        "id": "euJeHYEMmRBu",
        "outputId": "c5f4ce17-d2da-4ca3-ada9-681147209877"
      },
      "execution_count": null,
      "outputs": [
        {
          "output_type": "stream",
          "name": "stderr",
          "text": [
            "/usr/local/lib/python3.10/dist-packages/ipykernel/ipkernel.py:283: DeprecationWarning: `should_run_async` will not call `transform_cell` automatically in the future. Please pass the result to `transformed_cell` argument and any exception that happen during thetransform in `preprocessing_exc_tuple` in IPython 7.17 and above.\n",
            "  and should_run_async(code)\n"
          ]
        }
      ]
    },
    {
      "cell_type": "code",
      "source": [
        "#Support vs. Confidence Scatter Plot:\n",
        "metric_to_visualize = 'lift'\n",
        "plt.figure(figsize=(8, 6))\n",
        "sc = plt.scatter(rule_support, rule_confidence, c=rules[metric_to_visualize], cmap='viridis', alpha=0.7)\n",
        "plt.colorbar(sc, label=metric_to_visualize)\n",
        "plt.xlabel('Support')\n",
        "plt.ylabel('Confidence')\n",
        "plt.title('Support vs. Confidence for Association Rules')\n",
        "plt.grid(True)\n",
        "plt.show()"
      ],
      "metadata": {
        "colab": {
          "base_uri": "https://localhost:8080/",
          "height": 619
        },
        "id": "frW4mAmNmRKZ",
        "outputId": "8d34239e-b3ae-4094-dd7b-f46a6f596ef7"
      },
      "execution_count": null,
      "outputs": [
        {
          "output_type": "stream",
          "name": "stderr",
          "text": [
            "/usr/local/lib/python3.10/dist-packages/ipykernel/ipkernel.py:283: DeprecationWarning: `should_run_async` will not call `transform_cell` automatically in the future. Please pass the result to `transformed_cell` argument and any exception that happen during thetransform in `preprocessing_exc_tuple` in IPython 7.17 and above.\n",
            "  and should_run_async(code)\n"
          ]
        },
        {
          "output_type": "display_data",
          "data": {
            "text/plain": [
              "<Figure size 800x600 with 2 Axes>"
            ],
            "image/png": "[encoded data removed]"
          },
          "metadata": {}
        }
      ]
    },
    {
      "cell_type": "markdown",
      "source": [
        "#Looking at the above Scatterplot, we can easily say that more is the confidence, more is the lift value. This means that more is the likelihood of the antecedant and consequent appearing together, more strong is their association. Also, on the other side more is the support value, less positive is the lift value which suggests that though the frequency of appearance of the antecedant and consequent items individually are more, but their chances of occuring together in a transaction becomes less likely to happen."
      ],
      "metadata": {
        "id": "1gTnPbjZpb9b"
      }
    },
    {
      "cell_type": "code",
      "source": [
        "\n",
        "import pandas as pd\n",
        "import matplotlib.pyplot as plt\n",
        "import seaborn as sns\n",
        "\n",
        "df = rules[['antecedents', 'consequents', 'support', 'confidence']]\n",
        "\n",
        "df['Antecedents'] = df['antecedents'].apply(lambda x: ', '.join(list(x)))\n",
        "df['Consequents'] = df['consequents'].apply(lambda x: ', '.join(list(x)))\n",
        "\n",
        "\n",
        "pivot_table = df.pivot_table(index='Antecedents', columns='Consequents', values='confidence', aggfunc='max')\n",
        "\n",
        "# Creating the heatmap\n",
        "plt.figure(figsize=(10, 8))\n",
        "sns.heatmap(pivot_table, annot=True, cmap='coolwarm')\n",
        "plt.title('Association Rules Heatmap')\n",
        "plt.show()"
      ],
      "metadata": {
        "colab": {
          "base_uri": "https://localhost:8080/",
          "height": 981
        },
        "id": "63Ys6O_EsyLM",
        "outputId": "6a0743ef-df94-4f8e-eb7f-250dc9efb028"
      },
      "execution_count": null,
      "outputs": [
        {
          "output_type": "stream",
          "name": "stderr",
          "text": [
            "/usr/local/lib/python3.10/dist-packages/ipykernel/ipkernel.py:283: DeprecationWarning: `should_run_async` will not call `transform_cell` automatically in the future. Please pass the result to `transformed_cell` argument and any exception that happen during thetransform in `preprocessing_exc_tuple` in IPython 7.17 and above.\n",
            "  and should_run_async(code)\n",
            "<ipython-input-69-03b452ee9f5f>:7: SettingWithCopyWarning: \n",
            "A value is trying to be set on a copy of a slice from a DataFrame.\n",
            "Try using .loc[row_indexer,col_indexer] = value instead\n",
            "\n",
            "See the caveats in the documentation: https://pandas.pydata.org/pandas-docs/stable/user_guide/indexing.html#returning-a-view-versus-a-copy\n",
            "  df['Antecedents'] = df['antecedents'].apply(lambda x: ', '.join(list(x)))\n",
            "<ipython-input-69-03b452ee9f5f>:8: SettingWithCopyWarning: \n",
            "A value is trying to be set on a copy of a slice from a DataFrame.\n",
            "Try using .loc[row_indexer,col_indexer] = value instead\n",
            "\n",
            "See the caveats in the documentation: https://pandas.pydata.org/pandas-docs/stable/user_guide/indexing.html#returning-a-view-versus-a-copy\n",
            "  df['Consequents'] = df['consequents'].apply(lambda x: ', '.join(list(x)))\n"
          ]
        },
        {
          "output_type": "display_data",
          "data": {
            "text/plain": [
              "<Figure size 1000x800 with 2 Axes>"
            ],
            "image/png": "[encoded data removed]"
          },
          "metadata": {}
        }
      ]
    },
    {
      "cell_type": "markdown",
      "source": [
        "#With the help of the heatmap, we can see the associations between the antecedant and the consequent more precisely. Looking at the map, we can say that the association of the antecedant: DoItBks,GeogBks and the consequent: CookBks has the highest confidence value, suggesting that whenever DoItBks and GeogBks books are selected, though less frequently, then there are 82% chances that CookBks will also be present in the transaction Itemset."
      ],
      "metadata": {
        "id": "OdjFf21vumjO"
      }
    },
    {
      "cell_type": "code",
      "source": [
        "#Lets look at the first 10 Association Rules by Confidence\n",
        "rules = association_rules(frequent_itemsets, metric=\"confidence\", min_threshold=0.70)\n",
        "\n",
        "sorted_rules = rules.sort_values(by='confidence', ascending=False)\n",
        "\n",
        "# Choose the number of top rules to display\n",
        "top_n = 10\n",
        "\n",
        "# Extract rule labels (antecedents and consequents) and confidence values for the top rules\n",
        "antecedent_labels = [' + '.join(map(str, antecedent)) for antecedent in sorted_rules.head(top_n)['antecedents']]\n",
        "consequent_labels = [' + '.join(map(str, consequent)) for consequent in sorted_rules.head(top_n)['consequents']]\n",
        "confidence_values = sorted_rules.head(top_n)['confidence']\n",
        "\n",
        "# Creating the bar chart\n",
        "plt.figure(figsize=(10, 6))\n",
        "plt.barh([f\"{antecedent} => {consequent}\" for antecedent, consequent in zip(antecedent_labels, consequent_labels)], confidence_values, color='skyblue')\n",
        "plt.xlabel('Confidence')\n",
        "plt.title(f'Top {top_n} Association Rules by Confidence')\n",
        "plt.gca().invert_yaxis()\n",
        "plt.show()\n",
        "\n"
      ],
      "metadata": {
        "colab": {
          "base_uri": "https://localhost:8080/",
          "height": 619
        },
        "id": "1WC97sRuwcvf",
        "outputId": "7dfca846-d687-42b5-bd6d-46fabe4b160f"
      },
      "execution_count": null,
      "outputs": [
        {
          "output_type": "stream",
          "name": "stderr",
          "text": [
            "/usr/local/lib/python3.10/dist-packages/ipykernel/ipkernel.py:283: DeprecationWarning: `should_run_async` will not call `transform_cell` automatically in the future. Please pass the result to `transformed_cell` argument and any exception that happen during thetransform in `preprocessing_exc_tuple` in IPython 7.17 and above.\n",
            "  and should_run_async(code)\n"
          ]
        },
        {
          "output_type": "display_data",
          "data": {
            "text/plain": [
              "<Figure size 1000x600 with 1 Axes>"
            ],
            "image/png": "[encoded data removed]"
          },
          "metadata": {}
        }
      ]
    },
    {
      "cell_type": "markdown",
      "source": [
        "#**CONCLUSION**\n",
        "# Here we see that\n",
        "1)**Max confidence**: 1.0\n",
        "\n",
        "**Association** : ItalCook and CookBks\n",
        "\n",
        "**Observation**- Since the antecedent support of\n",
        "         ItalCook is only 11%, it can be\n",
        "         suggested These books do not\n",
        "        appear frequently in the transaction\n",
        "        itemsets. Whereas, the consequent support of 43% for CookBks suggests that they individually occur frequently.\n",
        "However, the confidence value of 1.0\n",
        "also suggests that, though, ItalCook\n",
        "appears less frequently in the itemset,\n",
        "but whenever it appears, the presence of\n",
        "the CookBks is mandatory. So in general,\n",
        "the highly imbalanced support suggests that the antecedent is relatively rare in the dataset compared to the consequent. This could be because the antecedent represents a specific condition or item that occurs infrequently.\n",
        "\n",
        "2) **Association** : (DoItYBks, ArtBks), (CookBks).\n",
        "\n",
        "**Observation** : This association implies that if a\n",
        "customer buys the antecedant item\n",
        "(with 12% occurence rate), there are\n",
        "82% chance they will also purchase the consequent item(with a 43% occurrence rate).\n",
        "\n",
        "\n",
        "3) **Association** : (DoItYBks, GeogBks), CookBks\n",
        "\n",
        "  **Observation** : antecedent support : 13%, consequent support : 43%, confidence : 81%\n",
        "\n",
        "\n",
        "4)**Profitable associations**\n",
        "\n",
        "(GeogBks), (ChildBks)\n",
        "antecedent support - 27%\n",
        "con supp - 42%\n",
        "Confi - 70%\n",
        "\n",
        "(RefBks),(CookBks)\n",
        "antecedent support - 21%\n",
        "con supp - 43%\n",
        "Confi - 71%\n",
        "\n",
        "(RefBks),(ChildBks)\n",
        "antecedent support - 21%\n",
        "con supp - 42%\n",
        "Confi - 70%\n",
        "\n"
      ],
      "metadata": {
        "id": "w2FoOEcZzuBR"
      }
    },
    {
      "cell_type": "markdown",
      "source": [
        "#**NEW DATASET**"
      ],
      "metadata": {
        "id": "ff5baLgrBX7k"
      }
    },
    {
      "cell_type": "code",
      "source": [
        "data = pd.read_csv(\"/content/my_movies.csv\")"
      ],
      "metadata": {
        "colab": {
          "base_uri": "https://localhost:8080/"
        },
        "id": "7fPUrbi4BWoj",
        "outputId": "cec4865c-48d6-4f47-eddf-df014ef2536a"
      },
      "execution_count": null,
      "outputs": [
        {
          "output_type": "stream",
          "name": "stderr",
          "text": [
            "/usr/local/lib/python3.10/dist-packages/ipykernel/ipkernel.py:283: DeprecationWarning: `should_run_async` will not call `transform_cell` automatically in the future. Please pass the result to `transformed_cell` argument and any exception that happen during thetransform in `preprocessing_exc_tuple` in IPython 7.17 and above.\n",
            "  and should_run_async(code)\n"
          ]
        }
      ]
    },
    {
      "cell_type": "code",
      "source": [
        "data.head()"
      ],
      "metadata": {
        "colab": {
          "base_uri": "https://localhost:8080/",
          "height": 330
        },
        "id": "76YnpvvXBW3c",
        "outputId": "90fae67c-0604-44be-bd7b-13d56723f155"
      },
      "execution_count": null,
      "outputs": [
        {
          "output_type": "stream",
          "name": "stderr",
          "text": [
            "/usr/local/lib/python3.10/dist-packages/ipykernel/ipkernel.py:283: DeprecationWarning: `should_run_async` will not call `transform_cell` automatically in the future. Please pass the result to `transformed_cell` argument and any exception that happen during thetransform in `preprocessing_exc_tuple` in IPython 7.17 and above.\n",
            "  and should_run_async(code)\n"
          ]
        },
        {
          "output_type": "execute_result",
          "data": {
            "text/plain": [
              "            V1       V2             V3          V4     V5  Sixth Sense  \\\n",
              "0  Sixth Sense    LOTR1  Harry Potter1  Green Mile  LOTR2            1   \n",
              "1    Gladiator  Patriot     Braveheart         NaN    NaN            0   \n",
              "2        LOTR1    LOTR2            NaN         NaN    NaN            0   \n",
              "3    Gladiator  Patriot    Sixth Sense         NaN    NaN            1   \n",
              "4    Gladiator  Patriot    Sixth Sense         NaN    NaN            1   \n",
              "\n",
              "   Gladiator  LOTR1  Harry Potter1  Patriot  LOTR2  Harry Potter2  LOTR  \\\n",
              "0          0      1              1        0      1              0     0   \n",
              "1          1      0              0        1      0              0     0   \n",
              "2          0      1              0        0      1              0     0   \n",
              "3          1      0              0        1      0              0     0   \n",
              "4          1      0              0        1      0              0     0   \n",
              "\n",
              "   Braveheart  Green Mile  \n",
              "0           0           1  \n",
              "1           1           0  \n",
              "2           0           0  \n",
              "3           0           0  \n",
              "4           0           0  "
            ],
            "text/html": [
              "\n",
              "  <div id=\"df-50c9e7e1-8391-4f9b-a712-e97bab0f0111\" class=\"colab-df-container\">\n",
              "    <div>\n",
              "<style scoped>\n",
              "    .dataframe tbody tr th:only-of-type {\n",
              "        vertical-align: middle;\n",
              "    }\n",
              "\n",
              "    .dataframe tbody tr th {\n",
              "        vertical-align: top;\n",
              "    }\n",
              "\n",
              "    .dataframe thead th {\n",
              "        text-align: right;\n",
              "    }\n",
              "</style>\n",
              "<table border=\"1\" class=\"dataframe\">\n",
              "  <thead>\n",
              "    <tr style=\"text-align: right;\">\n",
              "      <th></th>\n",
              "      <th>V1</th>\n",
              "      <th>V2</th>\n",
              "      <th>V3</th>\n",
              "      <th>V4</th>\n",
              "      <th>V5</th>\n",
              "      <th>Sixth Sense</th>\n",
              "      <th>Gladiator</th>\n",
              "      <th>LOTR1</th>\n",
              "      <th>Harry Potter1</th>\n",
              "      <th>Patriot</th>\n",
              "      <th>LOTR2</th>\n",
              "      <th>Harry Potter2</th>\n",
              "      <th>LOTR</th>\n",
              "      <th>Braveheart</th>\n",
              "      <th>Green Mile</th>\n",
              "    </tr>\n",
              "  </thead>\n",
              "  <tbody>\n",
              "    <tr>\n",
              "      <th>0</th>\n",
              "      <td>Sixth Sense</td>\n",
              "      <td>LOTR1</td>\n",
              "      <td>Harry Potter1</td>\n",
              "      <td>Green Mile</td>\n",
              "      <td>LOTR2</td>\n",
              "      <td>1</td>\n",
              "      <td>0</td>\n",
              "      <td>1</td>\n",
              "      <td>1</td>\n",
              "      <td>0</td>\n",
              "      <td>1</td>\n",
              "      <td>0</td>\n",
              "      <td>0</td>\n",
              "      <td>0</td>\n",
              "      <td>1</td>\n",
              "    </tr>\n",
              "    <tr>\n",
              "      <th>1</th>\n",
              "      <td>Gladiator</td>\n",
              "      <td>Patriot</td>\n",
              "      <td>Braveheart</td>\n",
              "      <td>NaN</td>\n",
              "      <td>NaN</td>\n",
              "      <td>0</td>\n",
              "      <td>1</td>\n",
              "      <td>0</td>\n",
              "      <td>0</td>\n",
              "      <td>1</td>\n",
              "      <td>0</td>\n",
              "      <td>0</td>\n",
              "      <td>0</td>\n",
              "      <td>1</td>\n",
              "      <td>0</td>\n",
              "    </tr>\n",
              "    <tr>\n",
              "      <th>2</th>\n",
              "      <td>LOTR1</td>\n",
              "      <td>LOTR2</td>\n",
              "      <td>NaN</td>\n",
              "      <td>NaN</td>\n",
              "      <td>NaN</td>\n",
              "      <td>0</td>\n",
              "      <td>0</td>\n",
              "      <td>1</td>\n",
              "      <td>0</td>\n",
              "      <td>0</td>\n",
              "      <td>1</td>\n",
              "      <td>0</td>\n",
              "      <td>0</td>\n",
              "      <td>0</td>\n",
              "      <td>0</td>\n",
              "    </tr>\n",
              "    <tr>\n",
              "      <th>3</th>\n",
              "      <td>Gladiator</td>\n",
              "      <td>Patriot</td>\n",
              "      <td>Sixth Sense</td>\n",
              "      <td>NaN</td>\n",
              "      <td>NaN</td>\n",
              "      <td>1</td>\n",
              "      <td>1</td>\n",
              "      <td>0</td>\n",
              "      <td>0</td>\n",
              "      <td>1</td>\n",
              "      <td>0</td>\n",
              "      <td>0</td>\n",
              "      <td>0</td>\n",
              "      <td>0</td>\n",
              "      <td>0</td>\n",
              "    </tr>\n",
              "    <tr>\n",
              "      <th>4</th>\n",
              "      <td>Gladiator</td>\n",
              "      <td>Patriot</td>\n",
              "      <td>Sixth Sense</td>\n",
              "      <td>NaN</td>\n",
              "      <td>NaN</td>\n",
              "      <td>1</td>\n",
              "      <td>1</td>\n",
              "      <td>0</td>\n",
              "      <td>0</td>\n",
              "      <td>1</td>\n",
              "      <td>0</td>\n",
              "      <td>0</td>\n",
              "      <td>0</td>\n",
              "      <td>0</td>\n",
              "      <td>0</td>\n",
              "    </tr>\n",
              "  </tbody>\n",
              "</table>\n",
              "</div>\n",
              "    <div class=\"colab-df-buttons\">\n",
              "\n",
              "  <div class=\"colab-df-container\">\n",
              "    <button class=\"colab-df-convert\" onclick=\"convertToInteractive('df-50c9e7e1-8391-4f9b-a712-e97bab0f0111')\"\n",
              "            title=\"Convert this dataframe to an interactive table.\"\n",
              "            style=\"display:none;\">\n",
              "\n",
              "  <svg xmlns=\"http://www.w3.org/2000/svg\" height=\"24px\" viewBox=\"0 -960 960 960\">\n",
              "    <path d=\"M120-120v-720h720v720H120Zm60-500h600v-160H180v160Zm220 220h160v-160H400v160Zm0 220h160v-160H400v160ZM180-400h160v-160H180v160Zm440 0h160v-160H620v160ZM180-180h160v-160H180v160Zm440 0h160v-160H620v160Z\"/>\n",
              "  </svg>\n",
              "    </button>\n",
              "\n",
              "  <style>\n",
              "    .colab-df-container {\n",
              "      display:flex;\n",
              "      gap: 12px;\n",
              "    }\n",
              "\n",
              "    .colab-df-convert {\n",
              "      background-color: #E8F0FE;\n",
              "      border: none;\n",
              "      border-radius: 50%;\n",
              "      cursor: pointer;\n",
              "      display: none;\n",
              "      fill: #1967D2;\n",
              "      height: 32px;\n",
              "      padding: 0 0 0 0;\n",
              "      width: 32px;\n",
              "    }\n",
              "\n",
              "    .colab-df-convert:hover {\n",
              "      background-color: #E2EBFA;\n",
              "      box-shadow: 0px 1px 2px rgba(60, 64, 67, 0.3), 0px 1px 3px 1px rgba(60, 64, 67, 0.15);\n",
              "      fill: #174EA6;\n",
              "    }\n",
              "\n",
              "    .colab-df-buttons div {\n",
              "      margin-bottom: 4px;\n",
              "    }\n",
              "\n",
              "    [theme=dark] .colab-df-convert {\n",
              "      background-color: #3B4455;\n",
              "      fill: #D2E3FC;\n",
              "    }\n",
              "\n",
              "    [theme=dark] .colab-df-convert:hover {\n",
              "      background-color: #434B5C;\n",
              "      box-shadow: 0px 1px 3px 1px rgba(0, 0, 0, 0.15);\n",
              "      filter: drop-shadow(0px 1px 2px rgba(0, 0, 0, 0.3));\n",
              "      fill: #FFFFFF;\n",
              "    }\n",
              "  </style>\n",
              "\n",
              "    <script>\n",
              "      const buttonEl =\n",
              "        document.querySelector('#df-50c9e7e1-8391-4f9b-a712-e97bab0f0111 button.colab-df-convert');\n",
              "      buttonEl.style.display =\n",
              "        google.colab.kernel.accessAllowed ? 'block' : 'none';\n",
              "\n",
              "      async function convertToInteractive(key) {\n",
              "        const element = document.querySelector('#df-50c9e7e1-8391-4f9b-a712-e97bab0f0111');\n",
              "        const dataTable =\n",
              "          await google.colab.kernel.invokeFunction('convertToInteractive',\n",
              "                                                    [key], {});\n",
              "        if (!dataTable) return;\n",
              "\n",
              "        const docLinkHtml = 'Like what you see? Visit the ' +\n",
              "          '<a target=\"_blank\" href=https://colab.research.google.com/notebooks/data_table.ipynb>data table notebook</a>'\n",
              "          + ' to learn more about interactive tables.';\n",
              "        element.innerHTML = '';\n",
              "        dataTable['output_type'] = 'display_data';\n",
              "        await google.colab.output.renderOutput(dataTable, element);\n",
              "        const docLink = document.createElement('div');\n",
              "        docLink.innerHTML = docLinkHtml;\n",
              "        element.appendChild(docLink);\n",
              "      }\n",
              "    </script>\n",
              "  </div>\n",
              "\n",
              "\n",
              "<div id=\"df-9e0f3800-99ba-4df9-b200-cefe173a5ed4\">\n",
              "  <button class=\"colab-df-quickchart\" onclick=\"quickchart('df-9e0f3800-99ba-4df9-b200-cefe173a5ed4')\"\n",
              "            title=\"Suggest charts.\"\n",
              "            style=\"display:none;\">\n",
              "\n",
              "<svg xmlns=\"http://www.w3.org/2000/svg\" height=\"24px\"viewBox=\"0 0 24 24\"\n",
              "     width=\"24px\">\n",
              "    <g>\n",
              "        <path d=\"M19 3H5c-1.1 0-2 .9-2 2v14c0 1.1.9 2 2 2h14c1.1 0 2-.9 2-2V5c0-1.1-.9-2-2-2zM9 17H7v-7h2v7zm4 0h-2V7h2v10zm4 0h-2v-4h2v4z\"/>\n",
              "    </g>\n",
              "</svg>\n",
              "  </button>\n",
              "\n",
              "<style>\n",
              "  .colab-df-quickchart {\n",
              "      --bg-color: #E8F0FE;\n",
              "      --fill-color: #1967D2;\n",
              "      --hover-bg-color: #E2EBFA;\n",
              "      --hover-fill-color: #174EA6;\n",
              "      --disabled-fill-color: #AAA;\n",
              "      --disabled-bg-color: #DDD;\n",
              "  }\n",
              "\n",
              "  [theme=dark] .colab-df-quickchart {\n",
              "      --bg-color: #3B4455;\n",
              "      --fill-color: #D2E3FC;\n",
              "      --hover-bg-color: #434B5C;\n",
              "      --hover-fill-color: #FFFFFF;\n",
              "      --disabled-bg-color: #3B4455;\n",
              "      --disabled-fill-color: #666;\n",
              "  }\n",
              "\n",
              "  .colab-df-quickchart {\n",
              "    background-color: var(--bg-color);\n",
              "    border: none;\n",
              "    border-radius: 50%;\n",
              "    cursor: pointer;\n",
              "    display: none;\n",
              "    fill: var(--fill-color);\n",
              "    height: 32px;\n",
              "    padding: 0;\n",
              "    width: 32px;\n",
              "  }\n",
              "\n",
              "  .colab-df-quickchart:hover {\n",
              "    background-color: var(--hover-bg-color);\n",
              "    box-shadow: 0 1px 2px rgba(60, 64, 67, 0.3), 0 1px 3px 1px rgba(60, 64, 67, 0.15);\n",
              "    fill: var(--button-hover-fill-color);\n",
              "  }\n",
              "\n",
              "  .colab-df-quickchart-complete:disabled,\n",
              "  .colab-df-quickchart-complete:disabled:hover {\n",
              "    background-color: var(--disabled-bg-color);\n",
              "    fill: var(--disabled-fill-color);\n",
              "    box-shadow: none;\n",
              "  }\n",
              "\n",
              "  .colab-df-spinner {\n",
              "    border: 2px solid var(--fill-color);\n",
              "    border-color: transparent;\n",
              "    border-bottom-color: var(--fill-color);\n",
              "    animation:\n",
              "      spin 1s steps(1) infinite;\n",
              "  }\n",
              "\n",
              "  @keyframes spin {\n",
              "    0% {\n",
              "      border-color: transparent;\n",
              "      border-bottom-color: var(--fill-color);\n",
              "      border-left-color: var(--fill-color);\n",
              "    }\n",
              "    20% {\n",
              "      border-color: transparent;\n",
              "      border-left-color: var(--fill-color);\n",
              "      border-top-color: var(--fill-color);\n",
              "    }\n",
              "    30% {\n",
              "      border-color: transparent;\n",
              "      border-left-color: var(--fill-color);\n",
              "      border-top-color: var(--fill-color);\n",
              "      border-right-color: var(--fill-color);\n",
              "    }\n",
              "    40% {\n",
              "      border-color: transparent;\n",
              "      border-right-color: var(--fill-color);\n",
              "      border-top-color: var(--fill-color);\n",
              "    }\n",
              "    60% {\n",
              "      border-color: transparent;\n",
              "      border-right-color: var(--fill-color);\n",
              "    }\n",
              "    80% {\n",
              "      border-color: transparent;\n",
              "      border-right-color: var(--fill-color);\n",
              "      border-bottom-color: var(--fill-color);\n",
              "    }\n",
              "    90% {\n",
              "      border-color: transparent;\n",
              "      border-bottom-color: var(--fill-color);\n",
              "    }\n",
              "  }\n",
              "</style>\n",
              "\n",
              "  <script>\n",
              "    async function quickchart(key) {\n",
              "      const quickchartButtonEl =\n",
              "        document.querySelector('#' + key + ' button');\n",
              "      quickchartButtonEl.disabled = true;  // To prevent multiple clicks.\n",
              "      quickchartButtonEl.classList.add('colab-df-spinner');\n",
              "      try {\n",
              "        const charts = await google.colab.kernel.invokeFunction(\n",
              "            'suggestCharts', [key], {});\n",
              "      } catch (error) {\n",
              "        console.error('Error during call to suggestCharts:', error);\n",
              "      }\n",
              "      quickchartButtonEl.classList.remove('colab-df-spinner');\n",
              "      quickchartButtonEl.classList.add('colab-df-quickchart-complete');\n",
              "    }\n",
              "    (() => {\n",
              "      let quickchartButtonEl =\n",
              "        document.querySelector('#df-9e0f3800-99ba-4df9-b200-cefe173a5ed4 button');\n",
              "      quickchartButtonEl.style.display =\n",
              "        google.colab.kernel.accessAllowed ? 'block' : 'none';\n",
              "    })();\n",
              "  </script>\n",
              "</div>\n",
              "    </div>\n",
              "  </div>\n"
            ]
          },
          "metadata": {},
          "execution_count": 76
        }
      ]
    },
    {
      "cell_type": "code",
      "source": [
        "#Dropping useless columns\n",
        "data = data.drop(['V1','V2','V3','V4','V5'], axis='columns')"
      ],
      "metadata": {
        "colab": {
          "base_uri": "https://localhost:8080/"
        },
        "id": "M-SG78xgBlrj",
        "outputId": "2bd0a046-930d-469d-cd7b-78391a51eca6"
      },
      "execution_count": null,
      "outputs": [
        {
          "output_type": "stream",
          "name": "stderr",
          "text": [
            "/usr/local/lib/python3.10/dist-packages/ipykernel/ipkernel.py:283: DeprecationWarning: `should_run_async` will not call `transform_cell` automatically in the future. Please pass the result to `transformed_cell` argument and any exception that happen during thetransform in `preprocessing_exc_tuple` in IPython 7.17 and above.\n",
            "  and should_run_async(code)\n"
          ]
        }
      ]
    },
    {
      "cell_type": "code",
      "source": [
        "data.head()"
      ],
      "metadata": {
        "colab": {
          "base_uri": "https://localhost:8080/",
          "height": 261
        },
        "id": "TFFy0T1ZCwC8",
        "outputId": "0b9eaa29-eaee-47a4-c7f3-99465fdea262"
      },
      "execution_count": null,
      "outputs": [
        {
          "output_type": "stream",
          "name": "stderr",
          "text": [
            "/usr/local/lib/python3.10/dist-packages/ipykernel/ipkernel.py:283: DeprecationWarning: `should_run_async` will not call `transform_cell` automatically in the future. Please pass the result to `transformed_cell` argument and any exception that happen during thetransform in `preprocessing_exc_tuple` in IPython 7.17 and above.\n",
            "  and should_run_async(code)\n"
          ]
        },
        {
          "output_type": "execute_result",
          "data": {
            "text/plain": [
              "   Sixth Sense  Gladiator  LOTR1  Harry Potter1  Patriot  LOTR2  \\\n",
              "0            1          0      1              1        0      1   \n",
              "1            0          1      0              0        1      0   \n",
              "2            0          0      1              0        0      1   \n",
              "3            1          1      0              0        1      0   \n",
              "4            1          1      0              0        1      0   \n",
              "\n",
              "   Harry Potter2  LOTR  Braveheart  Green Mile  \n",
              "0              0     0           0           1  \n",
              "1              0     0           1           0  \n",
              "2              0     0           0           0  \n",
              "3              0     0           0           0  \n",
              "4              0     0           0           0  "
            ],
            "text/html": [
              "\n",
              "  <div id=\"df-111592ff-f308-4c37-9d6a-19aae714badf\" class=\"colab-df-container\">\n",
              "    <div>\n",
              "<style scoped>\n",
              "    .dataframe tbody tr th:only-of-type {\n",
              "        vertical-align: middle;\n",
              "    }\n",
              "\n",
              "    .dataframe tbody tr th {\n",
              "        vertical-align: top;\n",
              "    }\n",
              "\n",
              "    .dataframe thead th {\n",
              "        text-align: right;\n",
              "    }\n",
              "</style>\n",
              "<table border=\"1\" class=\"dataframe\">\n",
              "  <thead>\n",
              "    <tr style=\"text-align: right;\">\n",
              "      <th></th>\n",
              "      <th>Sixth Sense</th>\n",
              "      <th>Gladiator</th>\n",
              "      <th>LOTR1</th>\n",
              "      <th>Harry Potter1</th>\n",
              "      <th>Patriot</th>\n",
              "      <th>LOTR2</th>\n",
              "      <th>Harry Potter2</th>\n",
              "      <th>LOTR</th>\n",
              "      <th>Braveheart</th>\n",
              "      <th>Green Mile</th>\n",
              "    </tr>\n",
              "  </thead>\n",
              "  <tbody>\n",
              "    <tr>\n",
              "      <th>0</th>\n",
              "      <td>1</td>\n",
              "      <td>0</td>\n",
              "      <td>1</td>\n",
              "      <td>1</td>\n",
              "      <td>0</td>\n",
              "      <td>1</td>\n",
              "      <td>0</td>\n",
              "      <td>0</td>\n",
              "      <td>0</td>\n",
              "      <td>1</td>\n",
              "    </tr>\n",
              "    <tr>\n",
              "      <th>1</th>\n",
              "      <td>0</td>\n",
              "      <td>1</td>\n",
              "      <td>0</td>\n",
              "      <td>0</td>\n",
              "      <td>1</td>\n",
              "      <td>0</td>\n",
              "      <td>0</td>\n",
              "      <td>0</td>\n",
              "      <td>1</td>\n",
              "      <td>0</td>\n",
              "    </tr>\n",
              "    <tr>\n",
              "      <th>2</th>\n",
              "      <td>0</td>\n",
              "      <td>0</td>\n",
              "      <td>1</td>\n",
              "      <td>0</td>\n",
              "      <td>0</td>\n",
              "      <td>1</td>\n",
              "      <td>0</td>\n",
              "      <td>0</td>\n",
              "      <td>0</td>\n",
              "      <td>0</td>\n",
              "    </tr>\n",
              "    <tr>\n",
              "      <th>3</th>\n",
              "      <td>1</td>\n",
              "      <td>1</td>\n",
              "      <td>0</td>\n",
              "      <td>0</td>\n",
              "      <td>1</td>\n",
              "      <td>0</td>\n",
              "      <td>0</td>\n",
              "      <td>0</td>\n",
              "      <td>0</td>\n",
              "      <td>0</td>\n",
              "    </tr>\n",
              "    <tr>\n",
              "      <th>4</th>\n",
              "      <td>1</td>\n",
              "      <td>1</td>\n",
              "      <td>0</td>\n",
              "      <td>0</td>\n",
              "      <td>1</td>\n",
              "      <td>0</td>\n",
              "      <td>0</td>\n",
              "      <td>0</td>\n",
              "      <td>0</td>\n",
              "      <td>0</td>\n",
              "    </tr>\n",
              "  </tbody>\n",
              "</table>\n",
              "</div>\n",
              "    <div class=\"colab-df-buttons\">\n",
              "\n",
              "  <div class=\"colab-df-container\">\n",
              "    <button class=\"colab-df-convert\" onclick=\"convertToInteractive('df-111592ff-f308-4c37-9d6a-19aae714badf')\"\n",
              "            title=\"Convert this dataframe to an interactive table.\"\n",
              "            style=\"display:none;\">\n",
              "\n",
              "  <svg xmlns=\"http://www.w3.org/2000/svg\" height=\"24px\" viewBox=\"0 -960 960 960\">\n",
              "    <path d=\"M120-120v-720h720v720H120Zm60-500h600v-160H180v160Zm220 220h160v-160H400v160Zm0 220h160v-160H400v160ZM180-400h160v-160H180v160Zm440 0h160v-160H620v160ZM180-180h160v-160H180v160Zm440 0h160v-160H620v160Z\"/>\n",
              "  </svg>\n",
              "    </button>\n",
              "\n",
              "  <style>\n",
              "    .colab-df-container {\n",
              "      display:flex;\n",
              "      gap: 12px;\n",
              "    }\n",
              "\n",
              "    .colab-df-convert {\n",
              "      background-color: #E8F0FE;\n",
              "      border: none;\n",
              "      border-radius: 50%;\n",
              "      cursor: pointer;\n",
              "      display: none;\n",
              "      fill: #1967D2;\n",
              "      height: 32px;\n",
              "      padding: 0 0 0 0;\n",
              "      width: 32px;\n",
              "    }\n",
              "\n",
              "    .colab-df-convert:hover {\n",
              "      background-color: #E2EBFA;\n",
              "      box-shadow: 0px 1px 2px rgba(60, 64, 67, 0.3), 0px 1px 3px 1px rgba(60, 64, 67, 0.15);\n",
              "      fill: #174EA6;\n",
              "    }\n",
              "\n",
              "    .colab-df-buttons div {\n",
              "      margin-bottom: 4px;\n",
              "    }\n",
              "\n",
              "    [theme=dark] .colab-df-convert {\n",
              "      background-color: #3B4455;\n",
              "      fill: #D2E3FC;\n",
              "    }\n",
              "\n",
              "    [theme=dark] .colab-df-convert:hover {\n",
              "      background-color: #434B5C;\n",
              "      box-shadow: 0px 1px 3px 1px rgba(0, 0, 0, 0.15);\n",
              "      filter: drop-shadow(0px 1px 2px rgba(0, 0, 0, 0.3));\n",
              "      fill: #FFFFFF;\n",
              "    }\n",
              "  </style>\n",
              "\n",
              "    <script>\n",
              "      const buttonEl =\n",
              "        document.querySelector('#df-111592ff-f308-4c37-9d6a-19aae714badf button.colab-df-convert');\n",
              "      buttonEl.style.display =\n",
              "        google.colab.kernel.accessAllowed ? 'block' : 'none';\n",
              "\n",
              "      async function convertToInteractive(key) {\n",
              "        const element = document.querySelector('#df-111592ff-f308-4c37-9d6a-19aae714badf');\n",
              "        const dataTable =\n",
              "          await google.colab.kernel.invokeFunction('convertToInteractive',\n",
              "                                                    [key], {});\n",
              "        if (!dataTable) return;\n",
              "\n",
              "        const docLinkHtml = 'Like what you see? Visit the ' +\n",
              "          '<a target=\"_blank\" href=https://colab.research.google.com/notebooks/data_table.ipynb>data table notebook</a>'\n",
              "          + ' to learn more about interactive tables.';\n",
              "        element.innerHTML = '';\n",
              "        dataTable['output_type'] = 'display_data';\n",
              "        await google.colab.output.renderOutput(dataTable, element);\n",
              "        const docLink = document.createElement('div');\n",
              "        docLink.innerHTML = docLinkHtml;\n",
              "        element.appendChild(docLink);\n",
              "      }\n",
              "    </script>\n",
              "  </div>\n",
              "\n",
              "\n",
              "<div id=\"df-45dc4875-2318-47db-9146-dd3efb26c905\">\n",
              "  <button class=\"colab-df-quickchart\" onclick=\"quickchart('df-45dc4875-2318-47db-9146-dd3efb26c905')\"\n",
              "            title=\"Suggest charts.\"\n",
              "            style=\"display:none;\">\n",
              "\n",
              "<svg xmlns=\"http://www.w3.org/2000/svg\" height=\"24px\"viewBox=\"0 0 24 24\"\n",
              "     width=\"24px\">\n",
              "    <g>\n",
              "        <path d=\"M19 3H5c-1.1 0-2 .9-2 2v14c0 1.1.9 2 2 2h14c1.1 0 2-.9 2-2V5c0-1.1-.9-2-2-2zM9 17H7v-7h2v7zm4 0h-2V7h2v10zm4 0h-2v-4h2v4z\"/>\n",
              "    </g>\n",
              "</svg>\n",
              "  </button>\n",
              "\n",
              "<style>\n",
              "  .colab-df-quickchart {\n",
              "      --bg-color: #E8F0FE;\n",
              "      --fill-color: #1967D2;\n",
              "      --hover-bg-color: #E2EBFA;\n",
              "      --hover-fill-color: #174EA6;\n",
              "      --disabled-fill-color: #AAA;\n",
              "      --disabled-bg-color: #DDD;\n",
              "  }\n",
              "\n",
              "  [theme=dark] .colab-df-quickchart {\n",
              "      --bg-color: #3B4455;\n",
              "      --fill-color: #D2E3FC;\n",
              "      --hover-bg-color: #434B5C;\n",
              "      --hover-fill-color: #FFFFFF;\n",
              "      --disabled-bg-color: #3B4455;\n",
              "      --disabled-fill-color: #666;\n",
              "  }\n",
              "\n",
              "  .colab-df-quickchart {\n",
              "    background-color: var(--bg-color);\n",
              "    border: none;\n",
              "    border-radius: 50%;\n",
              "    cursor: pointer;\n",
              "    display: none;\n",
              "    fill: var(--fill-color);\n",
              "    height: 32px;\n",
              "    padding: 0;\n",
              "    width: 32px;\n",
              "  }\n",
              "\n",
              "  .colab-df-quickchart:hover {\n",
              "    background-color: var(--hover-bg-color);\n",
              "    box-shadow: 0 1px 2px rgba(60, 64, 67, 0.3), 0 1px 3px 1px rgba(60, 64, 67, 0.15);\n",
              "    fill: var(--button-hover-fill-color);\n",
              "  }\n",
              "\n",
              "  .colab-df-quickchart-complete:disabled,\n",
              "  .colab-df-quickchart-complete:disabled:hover {\n",
              "    background-color: var(--disabled-bg-color);\n",
              "    fill: var(--disabled-fill-color);\n",
              "    box-shadow: none;\n",
              "  }\n",
              "\n",
              "  .colab-df-spinner {\n",
              "    border: 2px solid var(--fill-color);\n",
              "    border-color: transparent;\n",
              "    border-bottom-color: var(--fill-color);\n",
              "    animation:\n",
              "      spin 1s steps(1) infinite;\n",
              "  }\n",
              "\n",
              "  @keyframes spin {\n",
              "    0% {\n",
              "      border-color: transparent;\n",
              "      border-bottom-color: var(--fill-color);\n",
              "      border-left-color: var(--fill-color);\n",
              "    }\n",
              "    20% {\n",
              "      border-color: transparent;\n",
              "      border-left-color: var(--fill-color);\n",
              "      border-top-color: var(--fill-color);\n",
              "    }\n",
              "    30% {\n",
              "      border-color: transparent;\n",
              "      border-left-color: var(--fill-color);\n",
              "      border-top-color: var(--fill-color);\n",
              "      border-right-color: var(--fill-color);\n",
              "    }\n",
              "    40% {\n",
              "      border-color: transparent;\n",
              "      border-right-color: var(--fill-color);\n",
              "      border-top-color: var(--fill-color);\n",
              "    }\n",
              "    60% {\n",
              "      border-color: transparent;\n",
              "      border-right-color: var(--fill-color);\n",
              "    }\n",
              "    80% {\n",
              "      border-color: transparent;\n",
              "      border-right-color: var(--fill-color);\n",
              "      border-bottom-color: var(--fill-color);\n",
              "    }\n",
              "    90% {\n",
              "      border-color: transparent;\n",
              "      border-bottom-color: var(--fill-color);\n",
              "    }\n",
              "  }\n",
              "</style>\n",
              "\n",
              "  <script>\n",
              "    async function quickchart(key) {\n",
              "      const quickchartButtonEl =\n",
              "        document.querySelector('#' + key + ' button');\n",
              "      quickchartButtonEl.disabled = true;  // To prevent multiple clicks.\n",
              "      quickchartButtonEl.classList.add('colab-df-spinner');\n",
              "      try {\n",
              "        const charts = await google.colab.kernel.invokeFunction(\n",
              "            'suggestCharts', [key], {});\n",
              "      } catch (error) {\n",
              "        console.error('Error during call to suggestCharts:', error);\n",
              "      }\n",
              "      quickchartButtonEl.classList.remove('colab-df-spinner');\n",
              "      quickchartButtonEl.classList.add('colab-df-quickchart-complete');\n",
              "    }\n",
              "    (() => {\n",
              "      let quickchartButtonEl =\n",
              "        document.querySelector('#df-45dc4875-2318-47db-9146-dd3efb26c905 button');\n",
              "      quickchartButtonEl.style.display =\n",
              "        google.colab.kernel.accessAllowed ? 'block' : 'none';\n",
              "    })();\n",
              "  </script>\n",
              "</div>\n",
              "    </div>\n",
              "  </div>\n"
            ]
          },
          "metadata": {},
          "execution_count": 78
        }
      ]
    },
    {
      "cell_type": "code",
      "source": [
        "data.info()"
      ],
      "metadata": {
        "colab": {
          "base_uri": "https://localhost:8080/"
        },
        "id": "v5VrWXGcCxrl",
        "outputId": "1aabb133-cd54-4192-abf4-c116e376c769"
      },
      "execution_count": null,
      "outputs": [
        {
          "output_type": "stream",
          "name": "stdout",
          "text": [
            "<class 'pandas.core.frame.DataFrame'>\n",
            "RangeIndex: 10 entries, 0 to 9\n",
            "Data columns (total 10 columns):\n",
            " #   Column         Non-Null Count  Dtype\n",
            "---  ------         --------------  -----\n",
            " 0   Sixth Sense    10 non-null     int64\n",
            " 1   Gladiator      10 non-null     int64\n",
            " 2   LOTR1          10 non-null     int64\n",
            " 3   Harry Potter1  10 non-null     int64\n",
            " 4   Patriot        10 non-null     int64\n",
            " 5   LOTR2          10 non-null     int64\n",
            " 6   Harry Potter2  10 non-null     int64\n",
            " 7   LOTR           10 non-null     int64\n",
            " 8   Braveheart     10 non-null     int64\n",
            " 9   Green Mile     10 non-null     int64\n",
            "dtypes: int64(10)\n",
            "memory usage: 928.0 bytes\n"
          ]
        },
        {
          "output_type": "stream",
          "name": "stderr",
          "text": [
            "/usr/local/lib/python3.10/dist-packages/ipykernel/ipkernel.py:283: DeprecationWarning: `should_run_async` will not call `transform_cell` automatically in the future. Please pass the result to `transformed_cell` argument and any exception that happen during thetransform in `preprocessing_exc_tuple` in IPython 7.17 and above.\n",
            "  and should_run_async(code)\n"
          ]
        }
      ]
    },
    {
      "cell_type": "code",
      "source": [
        "for i in data.columns:\n",
        "  print(data[i].value_counts())\n",
        "  print()"
      ],
      "metadata": {
        "colab": {
          "base_uri": "https://localhost:8080/"
        },
        "id": "p3xd2YM7C0cq",
        "outputId": "e3267b5b-cbd8-4e14-fe67-798a3c242ef2"
      },
      "execution_count": null,
      "outputs": [
        {
          "output_type": "stream",
          "name": "stdout",
          "text": [
            "1    6\n",
            "0    4\n",
            "Name: Sixth Sense, dtype: int64\n",
            "\n",
            "1    7\n",
            "0    3\n",
            "Name: Gladiator, dtype: int64\n",
            "\n",
            "0    8\n",
            "1    2\n",
            "Name: LOTR1, dtype: int64\n",
            "\n",
            "0    8\n",
            "1    2\n",
            "Name: Harry Potter1, dtype: int64\n",
            "\n",
            "1    6\n",
            "0    4\n",
            "Name: Patriot, dtype: int64\n",
            "\n",
            "0    8\n",
            "1    2\n",
            "Name: LOTR2, dtype: int64\n",
            "\n",
            "0    9\n",
            "1    1\n",
            "Name: Harry Potter2, dtype: int64\n",
            "\n",
            "0    9\n",
            "1    1\n",
            "Name: LOTR, dtype: int64\n",
            "\n",
            "0    9\n",
            "1    1\n",
            "Name: Braveheart, dtype: int64\n",
            "\n",
            "0    8\n",
            "1    2\n",
            "Name: Green Mile, dtype: int64\n",
            "\n"
          ]
        },
        {
          "output_type": "stream",
          "name": "stderr",
          "text": [
            "/usr/local/lib/python3.10/dist-packages/ipykernel/ipkernel.py:283: DeprecationWarning: `should_run_async` will not call `transform_cell` automatically in the future. Please pass the result to `transformed_cell` argument and any exception that happen during thetransform in `preprocessing_exc_tuple` in IPython 7.17 and above.\n",
            "  and should_run_async(code)\n"
          ]
        }
      ]
    },
    {
      "cell_type": "code",
      "source": [
        "frequent1_itemsets = apriori(data, min_support=0.2, use_colnames=True)"
      ],
      "metadata": {
        "colab": {
          "base_uri": "https://localhost:8080/"
        },
        "id": "nr3fRUAbDQK-",
        "outputId": "ca0e22b5-0fe3-4114-dddd-c89abe73f04d"
      },
      "execution_count": null,
      "outputs": [
        {
          "output_type": "stream",
          "name": "stderr",
          "text": [
            "/usr/local/lib/python3.10/dist-packages/ipykernel/ipkernel.py:283: DeprecationWarning: `should_run_async` will not call `transform_cell` automatically in the future. Please pass the result to `transformed_cell` argument and any exception that happen during thetransform in `preprocessing_exc_tuple` in IPython 7.17 and above.\n",
            "  and should_run_async(code)\n",
            "/usr/local/lib/python3.10/dist-packages/mlxtend/frequent_patterns/fpcommon.py:110: DeprecationWarning: DataFrames with non-bool types result in worse computationalperformance and their support might be discontinued in the future.Please use a DataFrame with bool type\n",
            "  warnings.warn(\n"
          ]
        }
      ]
    },
    {
      "cell_type": "code",
      "source": [
        "rules1 = association_rules(frequent1_itemsets, metric=\"confidence\", min_threshold=0.70)"
      ],
      "metadata": {
        "colab": {
          "base_uri": "https://localhost:8080/"
        },
        "id": "5yrXzHreEBqC",
        "outputId": "a5435e74-8ba5-45d8-82bd-68ceb146cef9"
      },
      "execution_count": null,
      "outputs": [
        {
          "output_type": "stream",
          "name": "stderr",
          "text": [
            "/usr/local/lib/python3.10/dist-packages/ipykernel/ipkernel.py:283: DeprecationWarning: `should_run_async` will not call `transform_cell` automatically in the future. Please pass the result to `transformed_cell` argument and any exception that happen during thetransform in `preprocessing_exc_tuple` in IPython 7.17 and above.\n",
            "  and should_run_async(code)\n"
          ]
        }
      ]
    },
    {
      "cell_type": "code",
      "source": [
        "print(rules1)"
      ],
      "metadata": {
        "colab": {
          "base_uri": "https://localhost:8080/"
        },
        "id": "DtOwF92IEfH4",
        "outputId": "783a835d-0bc1-4342-cdb5-12c27203bd83"
      },
      "execution_count": null,
      "outputs": [
        {
          "output_type": "stream",
          "name": "stdout",
          "text": [
            "                antecedents    consequents  antecedent support  \\\n",
            "0             (Sixth Sense)    (Gladiator)                 0.6   \n",
            "1               (Gladiator)  (Sixth Sense)                 0.7   \n",
            "2              (Green Mile)  (Sixth Sense)                 0.2   \n",
            "3                 (Patriot)    (Gladiator)                 0.6   \n",
            "4               (Gladiator)      (Patriot)                 0.7   \n",
            "5                   (LOTR1)        (LOTR2)                 0.2   \n",
            "6                   (LOTR2)        (LOTR1)                 0.2   \n",
            "7    (Patriot, Sixth Sense)    (Gladiator)                 0.4   \n",
            "8  (Sixth Sense, Gladiator)      (Patriot)                 0.5   \n",
            "\n",
            "   consequent support  support  confidence      lift  leverage  conviction  \\\n",
            "0                 0.7      0.5    0.833333  1.190476      0.08         1.8   \n",
            "1                 0.6      0.5    0.714286  1.190476      0.08         1.4   \n",
            "2                 0.6      0.2    1.000000  1.666667      0.08         inf   \n",
            "3                 0.7      0.6    1.000000  1.428571      0.18         inf   \n",
            "4                 0.6      0.6    0.857143  1.428571      0.18         2.8   \n",
            "5                 0.2      0.2    1.000000  5.000000      0.16         inf   \n",
            "6                 0.2      0.2    1.000000  5.000000      0.16         inf   \n",
            "7                 0.7      0.4    1.000000  1.428571      0.12         inf   \n",
            "8                 0.6      0.4    0.800000  1.333333      0.10         2.0   \n",
            "\n",
            "   zhangs_metric  \n",
            "0       0.400000  \n",
            "1       0.533333  \n",
            "2       0.500000  \n",
            "3       0.750000  \n",
            "4       1.000000  \n",
            "5       1.000000  \n",
            "6       1.000000  \n",
            "7       0.500000  \n",
            "8       0.500000  \n"
          ]
        },
        {
          "output_type": "stream",
          "name": "stderr",
          "text": [
            "/usr/local/lib/python3.10/dist-packages/ipykernel/ipkernel.py:283: DeprecationWarning: `should_run_async` will not call `transform_cell` automatically in the future. Please pass the result to `transformed_cell` argument and any exception that happen during thetransform in `preprocessing_exc_tuple` in IPython 7.17 and above.\n",
            "  and should_run_async(code)\n"
          ]
        }
      ]
    },
    {
      "cell_type": "code",
      "source": [
        "rule_support1 = rules1['support'].tolist()\n",
        "rule_confidence1 = rules1['confidence'].tolist()"
      ],
      "metadata": {
        "colab": {
          "base_uri": "https://localhost:8080/"
        },
        "id": "MLLzksQZEw6Z",
        "outputId": "84326178-55c4-4973-a1a4-c5e3f3bbca88"
      },
      "execution_count": null,
      "outputs": [
        {
          "output_type": "stream",
          "name": "stderr",
          "text": [
            "/usr/local/lib/python3.10/dist-packages/ipykernel/ipkernel.py:283: DeprecationWarning: `should_run_async` will not call `transform_cell` automatically in the future. Please pass the result to `transformed_cell` argument and any exception that happen during thetransform in `preprocessing_exc_tuple` in IPython 7.17 and above.\n",
            "  and should_run_async(code)\n"
          ]
        }
      ]
    },
    {
      "cell_type": "code",
      "source": [
        "#Support vs. Confidence Scatter Plot:\n",
        "metric_to_visualize = 'lift'\n",
        "plt.figure(figsize=(8, 6))\n",
        "sc = plt.scatter(rule_support1, rule_confidence1, c=rules1[metric_to_visualize], cmap='viridis', alpha=0.7)\n",
        "plt.colorbar(sc, label=metric_to_visualize)\n",
        "plt.xlabel('Support')\n",
        "plt.ylabel('Confidence')\n",
        "plt.title('Support vs. Confidence for Association Rules')\n",
        "plt.grid(True)\n",
        "plt.show()"
      ],
      "metadata": {
        "colab": {
          "base_uri": "https://localhost:8080/",
          "height": 619
        },
        "id": "-kRcmP5YFrzX",
        "outputId": "4b62ec37-6e94-4b73-9732-645cfb83a73d"
      },
      "execution_count": null,
      "outputs": [
        {
          "output_type": "stream",
          "name": "stderr",
          "text": [
            "/usr/local/lib/python3.10/dist-packages/ipykernel/ipkernel.py:283: DeprecationWarning: `should_run_async` will not call `transform_cell` automatically in the future. Please pass the result to `transformed_cell` argument and any exception that happen during thetransform in `preprocessing_exc_tuple` in IPython 7.17 and above.\n",
            "  and should_run_async(code)\n"
          ]
        },
        {
          "output_type": "display_data",
          "data": {
            "text/plain": [
              "<Figure size 800x600 with 2 Axes>"
            ],
            "image/png": "[encoded data removed]"
          },
          "metadata": {}
        }
      ]
    },
    {
      "cell_type": "markdown",
      "source": [
        "#The above scatterplot suggests the following:\n",
        "\n",
        "\n",
        "*   The association where both the antecedant and consequent have high\n",
        "  likelihood of appearing together, will have high lift value, i.e\n",
        "  strong association.\n",
        "*   The association where both the antecedant and the consequent have\n",
        " high chances of appearing individually,i.e their support value is high, and also their chances of appearing together is high(confidence value is high); in such cases, the lift value is also high.\n",
        "\n",
        "\n",
        "\n",
        "\n",
        "\n"
      ],
      "metadata": {
        "id": "XJGPDHbLG_Nf"
      }
    },
    {
      "cell_type": "code",
      "source": [
        "import pandas as pd\n",
        "import matplotlib.pyplot as plt\n",
        "import seaborn as sns\n",
        "\n",
        "data = rules1[['antecedents', 'consequents', 'support', 'confidence']]\n",
        "\n",
        "data['Antecedents'] = data['antecedents'].apply(lambda x: ', '.join(list(x)))\n",
        "data['Consequents'] = data['consequents'].apply(lambda x: ', '.join(list(x)))\n",
        "\n",
        "\n",
        "pivot_table = data.pivot_table(index='Antecedents', columns='Consequents', values='confidence', aggfunc='max')\n",
        "\n",
        "# Creating the heatmap\n",
        "plt.figure(figsize=(10, 8))\n",
        "sns.heatmap(pivot_table, annot=True, cmap='coolwarm')\n",
        "plt.title('Association Rules Heatmap')\n",
        "plt.show()"
      ],
      "metadata": {
        "colab": {
          "base_uri": "https://localhost:8080/",
          "height": 981
        },
        "id": "ECQmtOCaIgxs",
        "outputId": "d6fb6467-7152-4f30-a283-aa32044648bb"
      },
      "execution_count": null,
      "outputs": [
        {
          "output_type": "stream",
          "name": "stderr",
          "text": [
            "/usr/local/lib/python3.10/dist-packages/ipykernel/ipkernel.py:283: DeprecationWarning: `should_run_async` will not call `transform_cell` automatically in the future. Please pass the result to `transformed_cell` argument and any exception that happen during thetransform in `preprocessing_exc_tuple` in IPython 7.17 and above.\n",
            "  and should_run_async(code)\n",
            "<ipython-input-106-2223a4a3fbbe>:7: SettingWithCopyWarning: \n",
            "A value is trying to be set on a copy of a slice from a DataFrame.\n",
            "Try using .loc[row_indexer,col_indexer] = value instead\n",
            "\n",
            "See the caveats in the documentation: https://pandas.pydata.org/pandas-docs/stable/user_guide/indexing.html#returning-a-view-versus-a-copy\n",
            "  data['Antecedents'] = data['antecedents'].apply(lambda x: ', '.join(list(x)))\n",
            "<ipython-input-106-2223a4a3fbbe>:8: SettingWithCopyWarning: \n",
            "A value is trying to be set on a copy of a slice from a DataFrame.\n",
            "Try using .loc[row_indexer,col_indexer] = value instead\n",
            "\n",
            "See the caveats in the documentation: https://pandas.pydata.org/pandas-docs/stable/user_guide/indexing.html#returning-a-view-versus-a-copy\n",
            "  data['Consequents'] = data['consequents'].apply(lambda x: ', '.join(list(x)))\n"
          ]
        },
        {
          "output_type": "display_data",
          "data": {
            "text/plain": [
              "<Figure size 1000x800 with 2 Axes>"
            ],
            "image/png": "[encoded data removed]"
          },
          "metadata": {}
        }
      ]
    },
    {
      "cell_type": "markdown",
      "source": [
        "#The above heatmap gives the most important associations:\n",
        "\n",
        "\n",
        "*   **Association** : GreenMile, Sixth Sence\n",
        "  \n",
        "   Observation : Since it has a confidence value of 1.0. This suggests that whenever GreenMile is present in the transaction itemset, Sixth\n",
        "   Sense is mandatorily present.\n",
        "\n",
        "\n",
        "*   **Association** : LOTR1, LOTR2\n",
        "\n",
        "   Observation : Since it has a confidence value of 1.0. This suggests that whenever LOTR1 is present in the transaction itemset, Sixth\n",
        "   LOTR2 is mandatorily present, and vice-versa.\n",
        "*   **Association** : Patriot, Gladiator\n",
        "   \n",
        "   Observation : Since it has a confidence value of 1.0. This suggests that whenever Patriot is present in the transaction itemset, Gladiator is mandatorily present.\n",
        "\n",
        "\n",
        "\n",
        "*   **Association** : (Patriot,Sixth Sense), Gladiator\n",
        "   \n",
        "   Observation : Since it has a confidence value of 1.0. This suggests that whenever Patriot and Sixth Sense is present in the transaction itemset, Gladiator is mandatorily present.\n",
        "\n",
        "\n",
        "\n",
        "\n",
        "\n",
        "\n",
        "\n",
        "\n",
        "\n",
        "\n",
        "\n"
      ],
      "metadata": {
        "id": "7oYs7zMvI5Cd"
      }
    },
    {
      "cell_type": "code",
      "source": [
        "#Lets look at the first 10 Association Rules by Confidence\n",
        "rules1 = association_rules(frequent1_itemsets, metric=\"confidence\", min_threshold=0.70)\n",
        "\n",
        "sorted_rules = rules1.sort_values(by='confidence', ascending=False)\n",
        "\n",
        "# Choose the number of top rules to display\n",
        "top_n = 10\n",
        "\n",
        "# Extract rule labels (antecedents and consequents) and confidence values for the top rules\n",
        "antecedent_labels = [' + '.join(map(str, antecedent)) for antecedent in sorted_rules.head(top_n)['antecedents']]\n",
        "consequent_labels = [' + '.join(map(str, consequent)) for consequent in sorted_rules.head(top_n)['consequents']]\n",
        "confidence_values = sorted_rules.head(top_n)['confidence']\n",
        "\n",
        "# Creating the bar chart\n",
        "plt.figure(figsize=(10, 6))\n",
        "plt.barh([f\"{antecedent} => {consequent}\" for antecedent, consequent in zip(antecedent_labels, consequent_labels)], confidence_values, color='skyblue')\n",
        "plt.xlabel('Confidence')\n",
        "plt.title(f'Top {top_n} Association Rules by Confidence')\n",
        "plt.gca().invert_yaxis()\n",
        "plt.show()"
      ],
      "metadata": {
        "colab": {
          "base_uri": "https://localhost:8080/",
          "height": 619
        },
        "id": "oRAZCydNMTwe",
        "outputId": "d60233b8-88d6-4797-b083-a5f84d5a1f74"
      },
      "execution_count": null,
      "outputs": [
        {
          "output_type": "stream",
          "name": "stderr",
          "text": [
            "/usr/local/lib/python3.10/dist-packages/ipykernel/ipkernel.py:283: DeprecationWarning: `should_run_async` will not call `transform_cell` automatically in the future. Please pass the result to `transformed_cell` argument and any exception that happen during thetransform in `preprocessing_exc_tuple` in IPython 7.17 and above.\n",
            "  and should_run_async(code)\n"
          ]
        },
        {
          "output_type": "display_data",
          "data": {
            "text/plain": [
              "<Figure size 1000x600 with 1 Axes>"
            ],
            "image/png": "[encoded data removed]"
          },
          "metadata": {}
        }
      ]
    },
    {
      "cell_type": "markdown",
      "source": [
        "#**CONCLUSION**\n",
        "Though according to our analysis, we have 3 best associations, but the most go-to association would be Patriot->Gladiator.\n",
        "\n",
        "The reason behind this is; the occurance value i.e the support values of both these antecedant and consequent items are nearly same, which suggests that both of them occur(individually) frequently in the transaction itemset. Since the confidence value is 1.0, this suggests\n",
        "that if Patriot occurs, then definitely Gladiator will be present.\n",
        "So, looking at both the support and the confidence values, it can be concluded that this association is the most common to occur."
      ],
      "metadata": {
        "id": "6nODY-XpMkuJ"
      }
    }
  ]
}